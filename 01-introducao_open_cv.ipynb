{
 "cells": [
  {
   "cell_type": "markdown",
   "metadata": {},
   "source": [
    "# 01 - Introdução ao OpenCV em python\n",
    "**Bem vido ao tutorial de python e opencv**\n",
    "\n",
    "Neste tutorial, iremos ver como que podemos utilizar o python para realizar os algoritmos de **Processamento de Imagens**"
   ]
  },
  {
   "cell_type": "markdown",
   "metadata": {},
   "source": [
    "O primeiro passo é importar as bibliotecas para manipular as imagens, neste caso utilizaremos o OpenCV, que é uma biblioteca de visão computacional de código aberto. E também utilizaremos a bibioteca MatPlotLib para mostrar imagens e plotar gráficos"
   ]
  },
  {
   "cell_type": "code",
   "execution_count": null,
   "metadata": {},
   "outputs": [],
   "source": [
    "import cv2\n",
    "import matplotlib.pyplot as plt"
   ]
  },
  {
   "cell_type": "markdown",
   "metadata": {},
   "source": [
    "Depois das bibliotecas devidamente importadas, podemos carregar uma imagem através do comando\n",
    "```python\n",
    "cv2.imread('caminho_da_imagem', <tipo_de_abertura>)\n",
    "```\n",
    "Desta forma podemos abrir a imagem Colorida:"
   ]
  },
  {
   "cell_type": "code",
   "execution_count": null,
   "metadata": {},
   "outputs": [],
   "source": [
    "imagem = cv2.imread('imagens/shark.jpg', cv2.IMREAD_COLOR)\n",
    "plt.imshow(cv2.cvtColor(imagem, cv2.COLOR_BGR2RGB))\n",
    "plt.show()"
   ]
  },
  {
   "cell_type": "markdown",
   "metadata": {},
   "source": [
    "Ou podemos abrir a imagem em preto e branco"
   ]
  },
  {
   "cell_type": "code",
   "execution_count": null,
   "metadata": {},
   "outputs": [],
   "source": [
    "imagem_cinza = cv2.imread('imagens/shark.jpg', cv2.IMREAD_GRAYSCALE)\n",
    "plt.imshow(cv2.cvtColor(imagem_cinza, cv2.COLOR_BGR2RGB))\n",
    "plt.show()"
   ]
  },
  {
   "cell_type": "markdown",
   "metadata": {},
   "source": [
    "Podemos realizar a cópia de uma imagem da seguinte forma:"
   ]
  },
  {
   "cell_type": "code",
   "execution_count": null,
   "metadata": {},
   "outputs": [],
   "source": [
    "imagem_cinza2 = imagem_cinza.copy()"
   ]
  },
  {
   "cell_type": "markdown",
   "metadata": {},
   "source": [
    "Podemos pegar o valor de um determinado pixel com o comando:\n",
    "```python\n",
    "<nomedavariavel>.item(<numero_da_linha>, <numero_da_coluna>)\n",
    "```\n",
    "Por exemplo, se queremos saber qual o valor do pixel na linha 100 e coluna 60 da imagem em cinza, podemos fazer da seguinte forma:"
   ]
  },
  {
   "cell_type": "code",
   "execution_count": null,
   "metadata": {},
   "outputs": [],
   "source": [
    "pixel = imagem_cinza.item(100, 60)\n",
    "print(pixel)"
   ]
  },
  {
   "cell_type": "markdown",
   "metadata": {},
   "source": [
    "Caso desejamos alterar o valor desse pixel, podemos executar o segunte comando:\n",
    "```python\n",
    "<nomedavariavel>.itemset((<numero_da_linha>, <numero_da_coluna>), <novo_valor>)\n",
    "```\n",
    "Por exemplo, se desejarmos alterar o valor do pixel da imagem em cinza na posição 50,50 (linha, coluna) para o valor 10, podemos fazer da seguinte forma:"
   ]
  },
  {
   "cell_type": "code",
   "execution_count": null,
   "metadata": {},
   "outputs": [],
   "source": [
    "imagem_cinza.itemset((50,50), 10)\n",
    "plt.imshow(cv2.cvtColor(imagem_cinza, cv2.COLOR_BGR2RGB))\n",
    "plt.show()"
   ]
  },
  {
   "cell_type": "markdown",
   "metadata": {},
   "source": [
    "Para pegar as dimensões da imagem, ou seja, o numero de linhas e de colunas podemos fazer da seguinte forma:"
   ]
  },
  {
   "cell_type": "code",
   "execution_count": null,
   "metadata": {},
   "outputs": [],
   "source": [
    "linhas, colunas = imagem_cinza.shape\n",
    "print(linhas)\n",
    "print(colunas)"
   ]
  },
  {
   "cell_type": "markdown",
   "metadata": {},
   "source": [
    "Podemos também percorrer por todas as linhas e todas as colunas da imagem, utilizando as variáveis encontradas anteriormente (linhas e colunas) da seguinte forma\n",
    "```python\n",
    "for i in range(0, linhas):\n",
    "\tfor j in range(0, int(colunas)):\n",
    "        <código aqui>\n",
    "``` \n",
    "\n",
    "Por exemplo. Vamos calcular o negativo da imagem, ou seja, vamos inverter o que é preto fica branco e o que é branco fica preto, podemos fazer da seginte forma:"
   ]
  },
  {
   "cell_type": "code",
   "execution_count": null,
   "metadata": {},
   "outputs": [],
   "source": [
    "imagem_negativo = imagem_cinza.copy()\n",
    "\n",
    "for i in range(0, linhas):\n",
    "\tfor j in range(0, int(colunas)):\n",
    "\t\tnegativo = 255-imagem_cinza.item(i, j)\n",
    "\t\timagem_negativo.itemset((i, j), negativo)\n",
    "        \n",
    "plt.imshow(cv2.cvtColor(imagem_negativo, cv2.COLOR_BGR2RGB))\n",
    "plt.show()"
   ]
  },
  {
   "cell_type": "markdown",
   "metadata": {},
   "source": [
    "Quando tiver qualquer dúvida em relação as funções do opencv para python, deve ser consultado a documentação do projeto OpenCV no seguinte endereço:\n",
    "[Python Opencv](https://docs.opencv.org/4.2.0/d6/d00/tutorial_py_root.html)"
   ]
  }
 ],
 "metadata": {
  "kernelspec": {
   "display_name": "Python 3.7.6 64-bit",
   "language": "python",
   "name": "python37664bit852f1d141fbd40f1bbea2eab19bafb08"
  },
  "language_info": {
   "codemirror_mode": {
    "name": "ipython",
    "version": 2
   },
   "file_extension": ".py",
   "mimetype": "text/x-python",
   "name": "python",
   "nbconvert_exporter": "python",
   "pygments_lexer": "ipython2",
   "version": "3.7.6-final"
  }
 },
 "nbformat": 4,
 "nbformat_minor": 0
}
