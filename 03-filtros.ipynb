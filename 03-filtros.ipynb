{
 "cells": [
  {
   "cell_type": "markdown",
   "metadata": {},
   "source": [
    "# 03 - Filtros de convolução\n",
    "\n",
    "Os filtros em processamento de imagens consiste em recalcular o valor de um pixel com base em seus vizinhos. Como visto nas aulas teóricas, podemos ter filstros passa-baixa (média, laplaciano) e os filtros passa-alta. Nestes exemplos iremos aprender como funcionam os filtros em OpenCV\n",
    "\n",
    "Vamos aplicar o filtro **passa-baixa** de média da vizinhança 8:\n",
    "```\n",
    "    [1/9, 1/9, 1/9]\n",
    "     1/9, 1/9, 1/9\n",
    "     1/9, 1/9, 1/9]\n",
    "```\n",
    "Em python podemos escrever este mesmo filtro de uma forma mais compacta:\n",
    "```python\n",
    "media3 = np.ones((3, 3), dtype=\"float\") * (1.0 / (3 * 3))\n",
    "```\n",
    "Esse comando cria uma matriz de 3 linhas por 3 colunas do tipo float e preenche todos os valores com 1/ (3*3), ou seja 1/9\n",
    "\n",
    "Dessa forma podemos fazer vizinhanças maiores apenas alterando os valores da matriz, e o valores:\n",
    "```python\n",
    "media5 = np.ones((5, 5), dtype=\"float\") * (1.0 / (5 * 5))\n",
    "media7 = np.ones((7, 7), dtype=\"float\") * (1.0 / (7 * 7))\n",
    "media9 = np.ones((9, 9), dtype=\"float\") * (1.0 / (9 * 9))\n",
    "media21 = np.ones((21, 21), dtype=\"float\") * (1.0 / (21 * 21))\n",
    "```"
   ]
  },
  {
   "cell_type": "code",
   "execution_count": null,
   "metadata": {},
   "outputs": [],
   "source": [
    "import cv2\n",
    "import matplotlib.pyplot as plt\n",
    "import numpy as np\n",
    "\n",
    "img = cv2.imread('imagens/shark.jpg',cv2.IMREAD_GRAYSCALE)\n",
    "\n",
    "media3 = np.ones((3, 3), dtype=\"float\") * (1.0 / (3 * 3))\n",
    "media5 = np.ones((5, 5), dtype=\"float\") * (1.0 / (5 * 5))\n",
    "media7 = np.ones((7, 7), dtype=\"float\") * (1.0 / (7 * 7))\n",
    "media9 = np.ones((9, 9), dtype=\"float\") * (1.0 / (9 * 9))\n",
    "media21 = np.ones((21, 21), dtype=\"float\") * (1.0 / (21 * 21))\n",
    "\n",
    "\n",
    "img_filtrada3 = cv2.filter2D(img, -1, media3)\n",
    "plt.imshow(cv2.cvtColor(img_filtrada3, cv2.COLOR_BGR2RGB))\n",
    "plt.show()\n",
    "\n",
    "img_filtrada5 = cv2.filter2D(img, -1, media5)\n",
    "plt.imshow(cv2.cvtColor(img_filtrada5, cv2.COLOR_BGR2RGB))\n",
    "plt.show()\n",
    "\n",
    "img_filtrada7 = cv2.filter2D(img, -1, media7)\n",
    "plt.imshow(cv2.cvtColor(img_filtrada7, cv2.COLOR_BGR2RGB))\n",
    "plt.show()\n",
    "\n",
    "img_filtrada9 = cv2.filter2D(img, -1, media9)\n",
    "plt.imshow(cv2.cvtColor(img_filtrada9, cv2.COLOR_BGR2RGB))\n",
    "plt.show()\n",
    "\n",
    "img_filtrada21 = cv2.filter2D(img, -1, media21)\n",
    "plt.imshow(cv2.cvtColor(img_filtrada21, cv2.COLOR_BGR2RGB))\n",
    "plt.show()"
   ]
  },
  {
   "cell_type": "markdown",
   "metadata": {},
   "source": [
    "Também temos o filtro laplaciano:"
   ]
  },
  {
   "cell_type": "code",
   "execution_count": null,
   "metadata": {},
   "outputs": [],
   "source": [
    "# Filtro laplaciano para detectar cantos\n",
    "laplaciano = np.array((\n",
    "\t[0, 1, 0],\n",
    "\t[1, -4, 1],\n",
    "\t[0, 1, 0]), dtype=\"int\")\n",
    "\n",
    "\n",
    "img_filtrada_laplaciano = cv2.filter2D(img, -1, laplaciano)\n",
    "plt.imshow(cv2.cvtColor(img_filtrada_laplaciano, cv2.COLOR_BGR2RGB))\n",
    "plt.show()"
   ]
  },
  {
   "cell_type": "markdown",
   "metadata": {},
   "source": [
    "E por fim os filtros **passa-alta**"
   ]
  },
  {
   "cell_type": "code",
   "execution_count": null,
   "metadata": {},
   "outputs": [],
   "source": [
    "# Filtro sobel sobre o eixo x\n",
    "passa_alta_1 = np.array((\n",
    "\t[0, -1, 0],\n",
    "\t[-1, 4, -1],\n",
    "\t[0, -1, 0]), dtype=\"int\")\n",
    "\n",
    "# filtro sobel sobre o eixo y\n",
    "passa_alta_2 = np.array((\n",
    "\t[-1, -1, -1],\n",
    "\t[-1, 8, -1],\n",
    "\t[-1, -1, -1]), dtype=\"int\")\n",
    "\n",
    "img_filtrada_passa_alta_1 = cv2.filter2D(img, -1, passa_alta_1)\n",
    "plt.imshow(cv2.cvtColor(img_filtrada_passa_alta_1, cv2.COLOR_BGR2RGB))\n",
    "plt.show()\n",
    "\n",
    "img_filtrada_passa_alta_2 = cv2.filter2D(img, -1, passa_alta_2)\n",
    "plt.imshow(cv2.cvtColor(img_filtrada_passa_alta_2, cv2.COLOR_BGR2RGB))\n",
    "plt.show()"
   ]
  }
 ],
 "metadata": {
  "kernelspec": {
   "display_name": "Python 3",
   "language": "python",
   "name": "python37664bit852f1d141fbd40f1bbea2eab19bafb08"
  },
  "language_info": {
   "codemirror_mode": {
    "name": "ipython",
    "version": 2
   },
   "file_extension": ".py",
   "mimetype": "text/x-python",
   "name": "python",
   "nbconvert_exporter": "python",
   "pygments_lexer": "ipython2",
   "version": "3.7.6-final"
  }
 },
 "nbformat": 4,
 "nbformat_minor": 0
}