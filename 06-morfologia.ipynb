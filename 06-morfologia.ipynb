{
 "nbformat": 4,
 "nbformat_minor": 2,
 "metadata": {
  "language_info": {
   "name": "python",
   "codemirror_mode": {
    "name": "ipython",
    "version": 3
   },
   "version": "3.7.6-final"
  },
  "orig_nbformat": 2,
  "file_extension": ".py",
  "mimetype": "text/x-python",
  "name": "python",
  "npconvert_exporter": "python",
  "pygments_lexer": "ipython3",
  "version": 3,
  "kernelspec": {
   "name": "python37664bitbaseconda6fc589861ac24251aa694feaf534f31c",
   "display_name": "Python 3.7.6 64-bit ('base': conda)"
  }
 },
 "cells": [
  {
   "cell_type": "markdown",
   "metadata": {},
   "source": [
    "# Morfologia\n",
    "\n",
    "Nesta aula iremos aprender sobre Morfologia binária de imagens"
   ]
  },
  {
   "cell_type": "markdown",
   "metadata": {},
   "source": [
    "Primeiro vamos abrir e mostrar a imagem original:"
   ]
  },
  {
   "cell_type": "code",
   "execution_count": null,
   "metadata": {},
   "outputs": [],
   "source": [
    "import cv2\n",
    "import matplotlib.pyplot as plt\n",
    "import numpy as np\n",
    "\n",
    "img = cv2.imread('imagens/j.png',cv2.IMREAD_GRAYSCALE)\n",
    "plt.imshow(cv2.cvtColor(img, cv2.COLOR_BGR2RGB))\n",
    "plt.show()"
   ]
  },
  {
   "cell_type": "markdown",
   "metadata": {},
   "source": [
    "Vamos definir o elemento estruturante, chamado de janela ou kernel como uma matriz de 5 colunas por 5 linhas preenchida com 1:"
   ]
  },
  {
   "cell_type": "code",
   "execution_count": null,
   "metadata": {},
   "outputs": [],
   "source": [
    "kernel = np.ones((5,5),np.uint8)"
   ]
  },
  {
   "cell_type": "markdown",
   "metadata": {},
   "source": [
    "Agora vamos aplicar a erosão, por meio da função do OpenCV erode:\n",
    "```python\n",
    "cv2.erode(<variavel da imagem> ,<janela ou kernel>,iterations = <numero de iterações>)\n",
    "```"
   ]
  },
  {
   "cell_type": "code",
   "execution_count": null,
   "metadata": {},
   "outputs": [],
   "source": [
    "erosao = cv2.erode(img,kernel,iterations = 1)\n",
    "plt.imshow(cv2.cvtColor(erosao, cv2.COLOR_BGR2RGB))\n",
    "plt.show()"
   ]
  },
  {
   "cell_type": "markdown",
   "metadata": {},
   "source": [
    "E agora a dilatação, com a operação dilate:\n",
    "```python\n",
    "cv2.dilate(<variavel da imagem> ,<janela ou kernel>,iterations = <numero de iterações>)\n",
    "```"
   ]
  },
  {
   "cell_type": "code",
   "execution_count": null,
   "metadata": {},
   "outputs": [],
   "source": [
    "dilatacao = cv2.dilate(img,kernel,iterations = 1)\n",
    "plt.imshow(cv2.cvtColor(dilatacao, cv2.COLOR_BGR2RGB))\n",
    "plt.show()"
   ]
  },
  {
   "cell_type": "markdown",
   "metadata": {},
   "source": [
    "Para as operações de abertura e fechamento utilizaremos a seguinte função do OpenCV:\n",
    "```python\n",
    "cv2.morphologyEx(<variavel da imagem>, < cv2.MORPH_OPEN ou cv2.MORPH_CLOSE>, <janela>)\n",
    "```\n",
    "\n",
    "Para ficar mais evidente os efeitos da abertura e fechamento utilizaremos imagens com ruído."
   ]
  },
  {
   "cell_type": "markdown",
   "metadata": {},
   "source": [
    "Exemplo abertura:"
   ]
  },
  {
   "cell_type": "code",
   "execution_count": null,
   "metadata": {},
   "outputs": [],
   "source": [
    "img_ruido_1 = cv2.imread('imagens/j_ruido1.png',cv2.IMREAD_GRAYSCALE)\n",
    "plt.imshow(cv2.cvtColor(img_ruido_1, cv2.COLOR_BGR2RGB))\n",
    "plt.show()\n",
    "\n",
    "abertura = cv2.morphologyEx(img_ruido_1, cv2.MORPH_OPEN ,kernel)\n",
    "plt.imshow(cv2.cvtColor(abertura, cv2.COLOR_BGR2RGB))\n",
    "plt.show()"
   ]
  },
  {
   "cell_type": "markdown",
   "metadata": {},
   "source": [
    "Exemplo Fechamento:"
   ]
  },
  {
   "cell_type": "code",
   "execution_count": null,
   "metadata": {},
   "outputs": [],
   "source": [
    "img_ruido_2 = cv2.imread('imagens/j_ruido2.png',cv2.IMREAD_GRAYSCALE)\n",
    "plt.imshow(cv2.cvtColor(img_ruido_2, cv2.COLOR_BGR2RGB))\n",
    "plt.show()\n",
    "\n",
    "fechamento= cv2.morphologyEx(img_ruido_2, cv2.MORPH_CLOSE ,kernel)\n",
    "plt.imshow(cv2.cvtColor(fechamento, cv2.COLOR_BGR2RGB))\n",
    "plt.show()"
   ]
  }
 ]
}
