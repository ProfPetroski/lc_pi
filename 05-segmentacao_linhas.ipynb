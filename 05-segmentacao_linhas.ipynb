{
 "cells": [
  {
   "cell_type": "markdown",
   "metadata": {},
   "source": [
    "# Segmentação de linhas com filtragem\n",
    "\n",
    "Nesta aula iremos aprender como realizar a segmentação de linhas por meio de filtros de convolução. Esta é uma técnica diferente da análise de histograma, porém ela pode ser combinada com a limiarização pelas modas do histograma, além de outras técnicas. \n",
    "\n",
    "O primeiro passo é abrir a imagem em escala de cinza:\n"
   ]
  },
  {
   "cell_type": "code",
   "execution_count": null,
   "metadata": {},
   "outputs": [],
   "source": [
    "import cv2\n",
    "import matplotlib.pyplot as plt\n",
    "import numpy as np\n",
    "\n",
    "img = cv2.imread('imagens/linhas.png',cv2.IMREAD_GRAYSCALE)\n",
    "plt.imshow(cv2.cvtColor(img, cv2.COLOR_BGR2RGB))\n",
    "plt.show()"
   ]
  },
  {
   "cell_type": "markdown",
   "metadata": {},
   "source": [
    "Analizando a imagem vemos que ela possui diversas linhas na horizontal, vertical e diagonal.\n",
    "Vamos aplicar os filtros Sobel no eixo X e Sobel no eixo Y. O objetivo destes filtros é encontrar linhas horizontais e verticais respectivamente."
   ]
  },
  {
   "cell_type": "code",
   "execution_count": null,
   "metadata": {},
   "outputs": [],
   "source": [
    "# Filtro sobel sobre o eixo x\n",
    "sobelX = np.array((\n",
    "\t[-1, 0, 1],\n",
    "\t[-2, 0, 2],\n",
    "\t[-1, 0, 1]), dtype=\"int\")\n",
    "\n",
    "# filtro sobel sobre o eixo y\n",
    "sobelY = np.array((\n",
    "\t[-1, -2, -1],\n",
    "\t[0, 0, 0],\n",
    "\t[1, 2, 1]), dtype=\"int\")\n",
    "\n",
    "img_filtrada_sobelX = cv2.filter2D(img, -1, sobelX)\n",
    "plt.imshow(cv2.cvtColor(img_filtrada_sobelX, cv2.COLOR_BGR2RGB))\n",
    "plt.show()\n",
    "\n",
    "img_filtrada_sobelY = cv2.filter2D(img, -1, sobelY)\n",
    "plt.imshow(cv2.cvtColor(img_filtrada_sobelY, cv2.COLOR_BGR2RGB))\n",
    "plt.show()"
   ]
  },
  {
   "cell_type": "markdown",
   "metadata": {},
   "source": [
    "Agora os filtros de Prewitt, que da mesma forma que o filtro de Sobel tem o objetivo de destacar linhas verticais ou horizontais."
   ]
  },
  {
   "cell_type": "code",
   "execution_count": null,
   "metadata": {},
   "outputs": [],
   "source": [
    "# Filtro prewitt sobre o eixo x\n",
    "prewittX = np.array((\n",
    "\t[-1, 0, 1],\n",
    "\t[-1, 0, 1],\n",
    "\t[-1, 0, 1]), dtype=\"int\")\n",
    "\n",
    "# filtro prewitt sobre o eixo y\n",
    "prewittY = np.array((\n",
    "\t[1, 1, 1],\n",
    "\t[0, 0, 0],\n",
    "\t[-1, -1, -1]), dtype=\"int\")\n",
    "\n",
    "img_filtrada_prewittX = cv2.filter2D(img, -1, prewittX)\n",
    "plt.imshow(cv2.cvtColor(img_filtrada_prewittX, cv2.COLOR_BGR2RGB))\n",
    "plt.show()\n",
    "\n",
    "img_filtrada_prewittY = cv2.filter2D(img, -1, prewittY)\n",
    "plt.imshow(cv2.cvtColor(img_filtrada_prewittY, cv2.COLOR_BGR2RGB))\n",
    "plt.show()"
   ]
  },
  {
   "cell_type": "markdown",
   "metadata": {},
   "source": [
    "E por fim os filtros de Roberts, que devido ao seu tamanho (matriz de 2x2) acaba gerando um ruído um pouco maior"
   ]
  },
  {
   "cell_type": "code",
   "execution_count": null,
   "metadata": {},
   "outputs": [],
   "source": [
    "# Filtro prewitt sobre o eixo x\n",
    "robertsX = np.array((\n",
    "\t[0, 1],\n",
    "\t[-1, 0]), dtype=\"int\")\n",
    "\n",
    "# filtro prewitt sobre o eixo y\n",
    "robertsY = np.array((\n",
    "\t[1, 0],\n",
    "\t[0, -1]), dtype=\"int\")\n",
    "\n",
    "img_filtrada_robertsX = cv2.filter2D(img, -1, robertsX)\n",
    "plt.imshow(cv2.cvtColor(img_filtrada_robertsX, cv2.COLOR_BGR2RGB))\n",
    "plt.show()\n",
    "\n",
    "img_filtrada_robertsY = cv2.filter2D(img, -1, robertsY)\n",
    "plt.imshow(cv2.cvtColor(img_filtrada_robertsY, cv2.COLOR_BGR2RGB))\n",
    "plt.show()"
   ]
  }
 ],
 "metadata": {
  "kernelspec": {
   "display_name": "Python 3",
   "language": "python",
   "name": "python37664bit852f1d141fbd40f1bbea2eab19bafb08"
  },
  "language_info": {
   "codemirror_mode": {
    "name": "ipython",
    "version": 2
   },
   "file_extension": ".py",
   "mimetype": "text/x-python",
   "name": "python",
   "nbconvert_exporter": "python",
   "pygments_lexer": "ipython2",
   "version": "3.7.6-final"
  }
 },
 "nbformat": 4,
 "nbformat_minor": 0
}