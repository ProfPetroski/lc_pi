{
 "cells": [
  {
   "cell_type": "markdown",
   "metadata": {
    "run_control": {
     "frozen": false,
     "read_only": false
    }
   },
   "source": [
    "# O que é Python?"
   ],
   "execution_count": null,
   "outputs": []
  },
  {
   "cell_type": "markdown",
   "metadata": {},
   "source": [
    "Python é uma linguagem de programação construída sobre o conceito de _Orientação a Objeto_, como em Java e Ruby e diferente de C, Fortran ou Haskell.\n",
    "Python tem algumas características não usuais para aqueles que aprendem a programar C ou Fortran, como:\n",
    "  - Tipagem Dinâmica \n",
    "  - Programação Interativa (REPL, IPython, Jupyter Notebooks)\n",
    "  - Estruturas de dados de alto nível (listas, dicionários...)\n",
    "  - \"Tudo é um objeto\" (funções, classes, números, strings...)\n",
    "  - Não tem ponto e vírgula\n",
    "  - Os blocos de código são definidos pela identação, e não por chaver como c e java\n",
    " "
   ],
   "execution_count": null,
   "outputs": []
  },
  {
   "cell_type": "markdown",
   "metadata": {},
   "source": [
    "Python é uma linguagem madura (com cerca de 30 anos de idade) com um ecossistema de pacotes muito rico e uma comuidade ativa e amigável.\n",
    "É fácil de ser aprendida não só por conta da sintaxe relativamente simples, mas também pela expressividade da linguagem e à grande quantidade de pacotes excelentes para lidar com diversos tipos de problema."
   ],
   "execution_count": null,
   "outputs": []
  },
  {
   "cell_type": "markdown",
   "metadata": {},
   "source": [
    "## Atribuição e nomes de variáveis\n",
    "Em python, váriaveis são criadas ao se atribuir um valor a um síbolo válido, não necessita de colocar o tipo. Por exemplo:\n"
   ],
   "execution_count": null,
   "outputs": []
  },
  {
   "cell_type": "code",
   "execution_count": null,
   "metadata": {},
   "outputs": [],
   "source": [
    "novavariavel = 1\n",
    "nota1 = 8"
   ]
  },
  {
   "cell_type": "markdown",
   "metadata": {},
   "source": [
    "Para mostrar o valor na tela de uma variável podemos executar a função print"
   ],
   "execution_count": null,
   "outputs": []
  },
  {
   "cell_type": "code",
   "execution_count": null,
   "metadata": {},
   "outputs": [],
   "source": [
    "print(1)\n",
    "print(\"Mostrando uma string\")\n",
    "print (novavariavel)\n",
    "print(nota1)"
   ]
  },
  {
   "cell_type": "markdown",
   "metadata": {},
   "source": [
    "## Controle de fluxo\n",
    "### If, elif, else\n",
    "Para testar condições em python usamos construções do tipo\n",
    "```python\n",
    "if condition:\n",
    "    ...algum código()\n",
    "elif other_condition:\n",
    "    ... outro código()\n",
    "elif ...:\n",
    ".\n",
    ".\n",
    ".\n",
    "else:  # nenhuma condição anterior foi satisfeita\n",
    "    ..fazer alguma outra coisa()\n",
    "```\n",
    "Por exemplo:"
   ],
   "execution_count": null,
   "outputs": []
  },
  {
   "cell_type": "code",
   "execution_count": null,
   "metadata": {},
   "outputs": [],
   "source": [
    "\n",
    "a, b = 10, 20\n",
    "if a < b:\n",
    "    print('A é menor')\n",
    "elif a == b:\n",
    "    print('A e B são iguais')\n",
    "else:\n",
    "    print('B é menor')"
   ]
  },
  {
   "cell_type": "markdown",
   "metadata": {},
   "source": [
    "### while e for loops\n",
    "Para iterar sobre containers ou sequências, usamos as estruturas de while ou for:\n",
    "```python\n",
    "while codicao:\n",
    "    ...algumcodigo()\n",
    "    ..incremento ou decremento()\n",
    "\n",
    "for element in container:\n",
    "    dostuff()\n",
    "```"
   ],
   "execution_count": null,
   "outputs": []
  },
  {
   "cell_type": "code",
   "execution_count": null,
   "metadata": {},
   "outputs": [],
   "source": [
    "n = 10\n",
    "while n > 0:\n",
    "    print(n)\n",
    "    n -= 1"
   ]
  },
  {
   "cell_type": "code",
   "execution_count": null,
   "metadata": {},
   "outputs": [],
   "source": [
    "for n in range(10,0,-1):\n",
    "    print(n)"
   ]
  },
  {
   "cell_type": "markdown",
   "metadata": {},
   "source": [
    "Python tem muitos recursos e é uma linguagem bastante interessante. Para quem desejar ir mais afundo com o python, recomendo o tutorial do próprio site do python:\n",
    "[O Tutorial Python](https://docs.python.org/pt-br/3/tutorial/index.html)\n",
    "\n",
    "\n"
   ],
   "execution_count": null,
   "outputs": []
  }
 ],
 "metadata": {
  "kernelspec": {
   "display_name": "Python 3",
   "language": "python",
   "name": "python3"
  },
  "language_info": {
   "codemirror_mode": {
    "name": "ipython",
    "version": 3
   },
   "file_extension": ".py",
   "mimetype": "text/x-python",
   "name": "python",
   "nbconvert_exporter": "python",
   "pygments_lexer": "ipython3",
   "version": "3.7.6-final"
  },
  "toc": {
   "colors": {
    "hover_highlight": "#DAA520",
    "running_highlight": "#FF0000",
    "selected_highlight": "#FFD700"
   },
   "moveMenuLeft": true,
   "nav_menu": {
    "height": "270px",
    "width": "252px"
   },
   "navigate_menu": true,
   "number_sections": true,
   "sideBar": true,
   "threshold": 4,
   "toc_cell": false,
   "toc_section_display": "block",
   "toc_window_display": false
  }
 },
 "nbformat": 4,
 "nbformat_minor": 2
}