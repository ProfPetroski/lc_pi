{
 "nbformat": 4,
 "nbformat_minor": 2,
 "metadata": {
  "language_info": {
   "name": "python",
   "codemirror_mode": {
    "name": "ipython",
    "version": 3
   },
   "version": "3.7.6-final"
  },
  "orig_nbformat": 2,
  "file_extension": ".py",
  "mimetype": "text/x-python",
  "name": "python",
  "npconvert_exporter": "python",
  "pygments_lexer": "ipython3",
  "version": 3,
  "kernelspec": {
   "name": "python37664bitbaseconda6fc589861ac24251aa694feaf534f31c",
   "display_name": "Python 3.7.6 64-bit ('base': conda)"
  }
 },
 "cells": [
  {
   "cell_type": "markdown",
   "metadata": {},
   "source": [
    "# Segmentação\n",
    "\n",
    "Nesta aula iremos aprender como realizar a segmentação de imagens com OpenCV\n",
    "\n"
   ],
   "execution_count": null,
   "outputs": []
  },
  {
   "cell_type": "markdown",
   "metadata": {},
   "source": [
    "Para sementar o primeiro passo é calcular o histograma. Neste exemplo iremos calcular o histograma da foto de um teclado, vamos mostrar a imagem do teclado:"
   ],
   "execution_count": null,
   "outputs": []
  },
  {
   "cell_type": "code",
   "execution_count": null,
   "metadata": {},
   "outputs": [],
   "source": [
    "import cv2\n",
    "import matplotlib.pyplot as plt\n",
    "\n",
    "img = cv2.imread('imagens/teclado.png',cv2.IMREAD_GRAYSCALE)\n",
    "plt.imshow(cv2.cvtColor(img, cv2.COLOR_BGR2RGB))\n",
    "plt.show()"
   ]
  },
  {
   "cell_type": "markdown",
   "metadata": {},
   "source": [
    "Analizando a imagem do teclado, notamos 3 regiões que podem ser separadas na imagem, a primeira região são os contornos e itersecções das teclas, que estão bem escuros, e provavelmente formarão no histograma uma moda. Outra região que podemos destacar são as teclas que tem uma cor cinza e que representa a maior parte da imagem. E por fim temos as letras, que representam uma parte muito pequena da imagem e que formarão uma outra moda. Para comprovar, vamos para o histograma:"
   ],
   "execution_count": null,
   "outputs": []
  },
  {
   "cell_type": "code",
   "execution_count": null,
   "metadata": {},
   "outputs": [],
   "source": [
    "plt.hist(img.ravel(),256,[0,256])\n",
    "plt.show()"
   ]
  },
  {
   "cell_type": "markdown",
   "metadata": {},
   "source": [
    "As letras estão na cor branca, logo elas devem ser um valor próximo de 255. Analizando o histograma notamos que existem dois vales (uma parte mais baixa), um próximo do 45, e outro próximo mais ou menos em 150. Vamos utilizar estes valores para realizar a limiarização.\n",
    "\n",
    "A limiarização pode ser realizada com a função threshold do python:\n",
    "```python\n",
    "cv2.threshold(<variavel da imagem>, <valor do limiar>, <valor maximo>, <tipo de limiarização>)\n",
    "```\n",
    "\n",
    "Primeiro vamos segmentar a imagem no primeiro vale de 45:"
   ],
   "execution_count": null,
   "outputs": []
  },
  {
   "cell_type": "code",
   "execution_count": null,
   "metadata": {},
   "outputs": [],
   "source": [
    "img_limiarizada1 = cv2.threshold(img, 45, 255, cv2.THRESH_BINARY)[1]\n",
    "plt.imshow(cv2.cvtColor(img_limiarizada1, cv2.COLOR_BGR2RGB))\n",
    "plt.show()"
   ]
  },
  {
   "cell_type": "markdown",
   "metadata": {},
   "source": [
    "Agora vamos utilizar o 2 vale de 150:"
   ],
   "execution_count": null,
   "outputs": []
  },
  {
   "cell_type": "code",
   "execution_count": null,
   "metadata": {},
   "outputs": [],
   "source": [
    "img_limiarizada2 = cv2.threshold(img, 150, 255, cv2.THRESH_BINARY)[1]\n",
    "plt.imshow(cv2.cvtColor(img_limiarizada2, cv2.COLOR_BGR2RGB))\n",
    "plt.show()"
   ]
  },
  {
   "cell_type": "markdown",
   "metadata": {},
   "source": [
    "O último parâmetro da função threshold é o tipo de limiarização, um outro exemplo podemos utilizar a limiarização invertida:\n",
    "```\n",
    "cv2.THRESH_BINARY_INV\n",
    "```"
   ],
   "execution_count": null,
   "outputs": []
  },
  {
   "cell_type": "code",
   "execution_count": null,
   "metadata": {},
   "outputs": [],
   "source": [
    "img_limiarizada3 = cv2.threshold(img, 150, 255, cv2.THRESH_BINARY_INV)[1]\n",
    "plt.imshow(cv2.cvtColor(img_limiarizada3, cv2.COLOR_BGR2RGB))\n",
    "plt.show()"
   ]
  }
 ]
}