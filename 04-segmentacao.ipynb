{
 "cells": [
  {
   "cell_type": "markdown",
   "metadata": {},
   "source": [
    "# 04 - Segmentação\n",
    "\n",
    "Nesta aula iremos aprender como realizar a segmentação de imagens com OpenCV\n",
    "\n",
    "O conceito de segmentação de uma imagem consiste em dividir a imagem em áreas de interesse. Existem várias técnicas e aprimoramentos para executar este passo. O objetivo desta aula é mostrar uma técnica básica inicial para segmentar uma imagem através do histograma.\n",
    "\n",
    "Para sementar o primeiro passo é calcular o histograma. Neste exemplo iremos calcular o histograma da foto de um teclado, vamos mostrar a imagem do teclado:\n"
   ]
  },
  {
   "cell_type": "code",
   "execution_count": null,
   "metadata": {},
   "outputs": [],
   "source": [
    "import cv2\n",
    "import matplotlib.pyplot as plt\n",
    "\n",
    "img = cv2.imread('imagens/teclado.png',cv2.IMREAD_GRAYSCALE)\n",
    "plt.imshow(cv2.cvtColor(img, cv2.COLOR_BGR2RGB))\n",
    "plt.show()"
   ]
  },
  {
   "cell_type": "markdown",
   "metadata": {},
   "source": [
    "Analisando a imagem do teclado, notamos 3 regiões que podem ser separadas na imagem, a primeira região são os contornos e itersecções das teclas, que estão bem escuros, e provavelmente formarão no histograma uma **moda**. Outra região que podemos destacar são as teclas que tem uma cor cinza e que representa a maior parte da imagem e provavelmente estará agrupado em uma segunda **moda**. E por fim temos as letras, que representam uma parte muito pequena da imagem e que formarão uma terceira **moda**. Para comprovar, vamos para o histograma:"
   ]
  },
  {
   "cell_type": "code",
   "execution_count": null,
   "metadata": {},
   "outputs": [],
   "source": [
    "plt.hist(img.ravel(),256,[0,256])\n",
    "plt.show()"
   ]
  },
  {
   "cell_type": "markdown",
   "metadata": {},
   "source": [
    "As letras estão na cor branca, logo elas devem ser um valor próximo de 255. Analisando o histograma notamos que existem dois vales (uma parte mais baixa), um próximo do 45, e outro próximo mais ou menos em 150. Vamos utilizar estes valores para realizar a limiarização.\n",
    "\n",
    "A limiarização pode ser realizada com a função `cv2.threshold()` da biblioteca OpenCV:\n",
    "```python\n",
    "cv2.threshold(<variavel da imagem>, <valor do limiar>, <valor maximo>, <tipo de limiarização>)\n",
    "```\n",
    "\n",
    "Primeiro vamos segmentar a imagem no primeiro vale de 45:"
   ]
  },
  {
   "cell_type": "code",
   "execution_count": null,
   "metadata": {},
   "outputs": [],
   "source": [
    "img_limiarizada1 = cv2.threshold(img, 45, 255, cv2.THRESH_BINARY)[1]\n",
    "plt.imshow(cv2.cvtColor(img_limiarizada1, cv2.COLOR_BGR2RGB))\n",
    "plt.show()"
   ]
  },
  {
   "cell_type": "markdown",
   "metadata": {},
   "source": [
    "Agora vamos utilizar o segundo vale de 150:"
   ]
  },
  {
   "cell_type": "code",
   "execution_count": null,
   "metadata": {},
   "outputs": [],
   "source": [
    "img_limiarizada2 = cv2.threshold(img, 150, 255, cv2.THRESH_BINARY)[1]\n",
    "plt.imshow(cv2.cvtColor(img_limiarizada2, cv2.COLOR_BGR2RGB))\n",
    "plt.show()"
   ]
  },
  {
   "cell_type": "markdown",
   "metadata": {},
   "source": [
    "O último parâmetro da função threshold é o tipo de limiarização, um outro exemplo podemos utilizar a limiarização invertida:\n",
    "```\n",
    "cv2.THRESH_BINARY_INV\n",
    "```"
   ]
  },
  {
   "cell_type": "code",
   "execution_count": null,
   "metadata": {},
   "outputs": [],
   "source": [
    "img_limiarizada3 = cv2.threshold(img, 150, 255, cv2.THRESH_BINARY_INV)[1]\n",
    "plt.imshow(cv2.cvtColor(img_limiarizada3, cv2.COLOR_BGR2RGB))\n",
    "plt.show()"
   ]
  }
 ],
 "metadata": {
  "kernelspec": {
   "display_name": "Python 3",
   "language": "python",
   "name": "python37664bit852f1d141fbd40f1bbea2eab19bafb08"
  },
  "language_info": {
   "codemirror_mode": {
    "name": "ipython",
    "version": 2
   },
   "file_extension": ".py",
   "mimetype": "text/x-python",
   "name": "python",
   "nbconvert_exporter": "python",
   "pygments_lexer": "ipython2",
   "version": "3.7.6-final"
  }
 },
 "nbformat": 4,
 "nbformat_minor": 0
}