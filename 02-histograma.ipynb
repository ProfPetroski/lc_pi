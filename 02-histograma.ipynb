{
 "nbformat": 4,
 "nbformat_minor": 2,
 "metadata": {
  "language_info": {
   "name": "python",
   "codemirror_mode": {
    "name": "ipython",
    "version": 3
   },
   "version": "3.7.6-final"
  },
  "orig_nbformat": 2,
  "file_extension": ".py",
  "mimetype": "text/x-python",
  "name": "python",
  "npconvert_exporter": "python",
  "pygments_lexer": "ipython3",
  "version": 3,
  "kernelspec": {
   "name": "python37664bitbaseconda6fc589861ac24251aa694feaf534f31c",
   "display_name": "Python 3.7.6 64-bit ('base': conda)"
  }
 },
 "cells": [
  {
   "cell_type": "markdown",
   "metadata": {},
   "source": [
    "# 02 - Histograma\n",
    "Para calcular o histograma de uma imagem podemos utilizar a seguinte funcao\n"
   ],
   "execution_count": null,
   "outputs": []
  },
  {
   "cell_type": "code",
   "execution_count": null,
   "metadata": {},
   "outputs": [],
   "source": [
    "import cv2\n",
    "import matplotlib.pyplot as plt\n",
    "\n",
    "img = cv2.imread('imagens/shark.jpg',cv2.IMREAD_GRAYSCALE)\n",
    "plt.hist(img.ravel(),256,[0,256])\n",
    "plt.show()"
   ]
  },
  {
   "cell_type": "markdown",
   "metadata": {},
   "source": [
    "Para plotar o histograma de uma imagem colorida, teremos 3 histogramas, uma para o vermelho, outro para o verde, e outro para o azul:"
   ],
   "execution_count": null,
   "outputs": []
  },
  {
   "cell_type": "code",
   "execution_count": null,
   "metadata": {},
   "outputs": [],
   "source": [
    "img_cor = cv2.imread('imagens/shark.jpg',cv2.IMREAD_COLOR)\n",
    "color = ('b','g','r')\n",
    "for i,col in enumerate(color):\n",
    "    histr = cv2.calcHist([img_cor],[i],None,[256],[0,256])\n",
    "    plt.plot(histr,color = col)\n",
    "    plt.xlim([0,256])\n",
    "plt.show()"
   ]
  },
  {
   "cell_type": "markdown",
   "metadata": {},
   "source": [
    "Podemos realizar a equalização do histograma da seguinte forma:\n"
   ],
   "execution_count": null,
   "outputs": []
  },
  {
   "cell_type": "code",
   "execution_count": null,
   "metadata": {},
   "outputs": [],
   "source": [
    "img_equalizada = cv2.equalizeHist(img)\n",
    "plt.imshow(cv2.cvtColor(img_equalizada, cv2.COLOR_BGR2RGB))\n",
    "plt.show()"
   ]
  },
  {
   "cell_type": "markdown",
   "metadata": {},
   "source": [
    "E também podemos plotar  histograma depois da equalização: (para comparação iremos plotar os dois hisogramas: antes da equalização e depois)"
   ],
   "execution_count": null,
   "outputs": []
  },
  {
   "cell_type": "code",
   "execution_count": null,
   "metadata": {},
   "outputs": [],
   "source": [
    "#plotando o histograma da imagem original\n",
    "plt.hist(img.ravel(),256,[0,256])\n",
    "plt.show()\n",
    "#plotando o histograma da imagem equalizada\n",
    "plt.hist(img_equalizada.ravel(),256,[0,256])\n",
    "plt.show()"
   ]
  },
  {
   "cell_type": "markdown",
   "metadata": {},
   "source": [
    "Para equalizar uma imagem colorida, é necessario separar os 3 canais de cores, e equalizar cada canal separadamente.\n",
    "Para separar os 3 canais podemos usar a função de split:\n",
    "```python\n",
    "azul, verde, vermelho = cv2.split(img)\n",
    " ```\n",
    " "
   ],
   "execution_count": null,
   "outputs": []
  },
  {
   "cell_type": "code",
   "execution_count": null,
   "metadata": {},
   "outputs": [],
   "source": [
    "azul, verde, vermelho = cv2.split(img_cor)\n",
    "vermelho_equalizado = cv2.equalizeHist(vermelho)\n",
    "verde_equalizado = cv2.equalizeHist(verde)\n",
    "azul_equalizado = cv2.equalizeHist(azul)\n",
    "\n",
    "img_cor_equalizada = cv2.merge((azul_equalizado, verde_equalizado, vermelho_equalizado))\n",
    "color = ('b','g','r')\n",
    "for i,col in enumerate(color):\n",
    "    histr = cv2.calcHist([img_cor_equalizada],[i],None,[256],[0,256])\n",
    "    plt.plot(histr,color = col)\n",
    "    plt.xlim([0,256])\n",
    "plt.show()\n",
    "\n",
    "plt.imshow(cv2.cvtColor(img_cor_equalizada, cv2.COLOR_BGR2RGB))\n",
    "plt.show()\n",
    ""
   ]
  }
 ]
}