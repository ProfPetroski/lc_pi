{
 "cells": [
  {
   "cell_type": "markdown",
   "metadata": {},
   "source": [
    "# 02 - Histograma\n",
    "\n",
    "O histograma de uma imagem consiste na contagem do número de pixels de cada intensidade de cor. Em imagens em escala de cinza, consiste de apenas um único valor de intensidade, assim o histograma considte na contagem de frequência de cada uma das 255 intensidades da escala em cinza (para imagens em 8 bits). Já para imagens coloridas, normalmente representada pelo esquema RGB, consiste em 3 intensidades para cada pixel, ou seja haverá 3 histogramas, um para cada intensidade das cores do RGB (Red, Green, Blue).\n",
    "\n",
    "Em python, podemos utilizar a função `plt.hist()` da biblioteca matplotlib. Essa função necessita do parâmetro de um vetor de valores para ser calculado a frequência (img.ravel() irá retornar um vetor de intensidades da imagem), do número de bins (256) e o intervalo (de 0 até 256). \n",
    "\n",
    "Para calcular o histograma de uma imagem em escala de cinza podemos utilizar o seguinte código:\n"
   ]
  },
  {
   "cell_type": "code",
   "execution_count": null,
   "metadata": {},
   "outputs": [],
   "source": [
    "import cv2\n",
    "import matplotlib.pyplot as plt\n",
    "\n",
    "img = cv2.imread('imagens/shark.jpg',cv2.IMREAD_GRAYSCALE)\n",
    "plt.hist(img.ravel(),256,[0,256])\n",
    "plt.show()"
   ]
  },
  {
   "cell_type": "markdown",
   "metadata": {},
   "source": [
    "Para plotar o histograma de uma imagem colorida, teremos 3 histogramas, uma para o vermelho, outro para o verde, e outro para o azul. Em python uma das maneiras de calculas os 3 histogramas é separando as cores da imagem, e utilizar a função `cv2.calcHist()` que tem como parâmentro a imagem aberta no formato colorido, o índice referente a cor(0=blue, 1=green, 2=red), o numero de bins (256) e o intervalo (de 0 a 256) \n",
    "\n",
    "Para calcular o histograma de uma imagem colorida podemos utilizar o seguinte código:"
   ]
  },
  {
   "cell_type": "code",
   "execution_count": null,
   "metadata": {},
   "outputs": [],
   "source": [
    "img_cor = cv2.imread('imagens/shark.jpg',cv2.IMREAD_COLOR)\n",
    "color = ('b','g','r')\n",
    "for i,col in enumerate(color):\n",
    "    histr = cv2.calcHist([img_cor],[i],None,[256],[0,256])\n",
    "    plt.plot(histr,color = col)\n",
    "    plt.xlim([0,256])\n",
    "plt.show()"
   ]
  },
  {
   "cell_type": "markdown",
   "metadata": {},
   "source": [
    "Para equalizar uma imagem (como vimos na aula teórica), podemos utilizar uma função da biblioteca OpenCV chamada `cv2.equalizeHist()`, que recebe como parâmetro a imagem a ser equalizada e retorna a imagem de resultado:\n"
   ]
  },
  {
   "cell_type": "code",
   "execution_count": null,
   "metadata": {},
   "outputs": [],
   "source": [
    "img_equalizada = cv2.equalizeHist(img)\n",
    "plt.imshow(cv2.cvtColor(img_equalizada, cv2.COLOR_BGR2RGB))\n",
    "plt.show()"
   ]
  },
  {
   "cell_type": "markdown",
   "metadata": {},
   "source": [
    "E também podemos plotar  histograma depois da equalização: (para comparação iremos plotar os dois hisogramas: antes da equalização e depois)"
   ]
  },
  {
   "cell_type": "code",
   "execution_count": null,
   "metadata": {},
   "outputs": [],
   "source": [
    "#plotando o histograma da imagem original\n",
    "plt.hist(img.ravel(),256,[0,256])\n",
    "plt.show()\n",
    "#plotando o histograma da imagem equalizada\n",
    "plt.hist(img_equalizada.ravel(),256,[0,256])\n",
    "plt.show()"
   ]
  },
  {
   "cell_type": "markdown",
   "metadata": {},
   "source": [
    "Para equalizar uma imagem colorida, é necessario separar os 3 canais de cores, e equalizar cada canal separadamente.\n",
    "Para separar os 3 canais podemos usar a função de split:\n",
    "```python\n",
    "azul, verde, vermelho = cv2.split(img)\n",
    " ```\n",
    " Depois precisamos juntar os 3 canais para formar uma única imagem novamente\n",
    " ```python\n",
    "img_cor_equalizada = cv2.merge((azul_equalizado, verde_equalizado vermelho_equalizado))\n",
    " ```\n",
    " E por fim mostrar os 3 histogramas equalizados e a imagem de resultado."
   ]
  },
  {
   "cell_type": "code",
   "execution_count": null,
   "metadata": {},
   "outputs": [],
   "source": [
    "azul, verde, vermelho = cv2.split(img_cor)\n",
    "vermelho_equalizado = cv2.equalizeHist(vermelho)\n",
    "verde_equalizado = cv2.equalizeHist(verde)\n",
    "azul_equalizado = cv2.equalizeHist(azul)\n",
    "\n",
    "# Agora que cada canal de cor está equalizado, vamos juntar em uma unica imagem com o cv2.merge\n",
    "img_cor_equalizada = cv2.merge((azul_equalizado, verde_equalizado, vermelho_equalizado))\n",
    "#Mostrar os 3 histogramas equalizados \n",
    "color = ('b','g','r')\n",
    "for i,col in enumerate(color):\n",
    "    histr = cv2.calcHist([img_cor_equalizada],[i],None,[256],[0,256])\n",
    "    plt.plot(histr,color = col)\n",
    "    plt.xlim([0,256])\n",
    "plt.show()\n",
    "#Mostrar a imagem de resultado\n",
    "plt.imshow(cv2.cvtColor(img_cor_equalizada, cv2.COLOR_BGR2RGB))\n",
    "plt.show()\n"
   ]
  }
 ],
 "metadata": {
  "kernelspec": {
   "display_name": "Python 3",
   "language": "python",
   "name": "python37664bit852f1d141fbd40f1bbea2eab19bafb08"
  },
  "language_info": {
   "codemirror_mode": {
    "name": "ipython",
    "version": 2
   },
   "file_extension": ".py",
   "mimetype": "text/x-python",
   "name": "python",
   "nbconvert_exporter": "python",
   "pygments_lexer": "ipython2",
   "version": "3.7.6-final"
  }
 },
 "nbformat": 4,
 "nbformat_minor": 0
}